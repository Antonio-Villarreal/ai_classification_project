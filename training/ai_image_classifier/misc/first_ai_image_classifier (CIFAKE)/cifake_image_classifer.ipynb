{
 "cells": [
  {
   "cell_type": "markdown",
   "id": "a13ee17e-0287-4293-8268-3b4ff95aae2e",
   "metadata": {},
   "source": [
    "[Project Proposal](https://docs.google.com/document/d/1otqTXQpy0auO99Uk386XXw5Y3WP2ZkVFEbFu2N21PfU/edit?usp=sharing)"
   ]
  },
  {
   "cell_type": "code",
   "execution_count": 1,
   "id": "1ef471a8-9a24-4c62-994d-bfd13a12b953",
   "metadata": {},
   "outputs": [],
   "source": [
    "import os\n",
    "import random\n",
    "from PIL import Image\n",
    "import matplotlib.pyplot as plt\n",
    "import numpy as np\n",
    "import pickle"
   ]
  },
  {
   "cell_type": "code",
   "execution_count": 2,
   "id": "f1e099b0-7b3e-43e0-b0d4-af3c26945c60",
   "metadata": {},
   "outputs": [],
   "source": [
    "import tensorflow as tf\n",
    "from tensorflow import keras\n",
    "from tensorflow.keras import layers\n",
    "from tensorflow.keras import optimizers\n",
    "from keras_tuner.tuners import RandomSearch\n",
    "from keras.layers import BatchNormalization\n",
    "from keras_tuner.engine.hyperparameters import HyperParameters"
   ]
  },
  {
   "cell_type": "markdown",
   "id": "67f4f6e7-46ff-40f4-b793-801461df4e59",
   "metadata": {},
   "source": [
    "# Mounting Dataset"
   ]
  },
  {
   "cell_type": "markdown",
   "id": "e5bc0086-8a5e-413f-9469-3b3b269f1617",
   "metadata": {},
   "source": [
    "[CIFAKE: Real and AI-Generated Synthetic Images](https://www.kaggle.com/datasets/birdy654/cifake-real-and-ai-generated-synthetic-images/data)"
   ]
  },
  {
   "cell_type": "code",
   "execution_count": 3,
   "id": "b4987b12-8aaa-44c9-bf73-5b0cf147bfe5",
   "metadata": {},
   "outputs": [],
   "source": [
    "synthetic_images_dataset = 'synthetic_images_dataset'"
   ]
  },
  {
   "cell_type": "code",
   "execution_count": 4,
   "id": "de193302-0a18-4677-9329-f37fd9312294",
   "metadata": {},
   "outputs": [],
   "source": [
    "train_directory = os.path.join(synthetic_images_dataset, 'train')\n",
    "test_directory = os.path.join(synthetic_images_dataset, 'test')"
   ]
  },
  {
   "cell_type": "code",
   "execution_count": 5,
   "id": "7dc4793d-7ee2-489d-8c53-ca90bb06905f",
   "metadata": {},
   "outputs": [],
   "source": [
    "train_real = os.path.join(train_directory, 'REAL')\n",
    "train_fake = os.path.join(train_directory, 'FAKE')"
   ]
  },
  {
   "cell_type": "code",
   "execution_count": 6,
   "id": "e64e3f74-e62e-4b14-a569-7591b512ae08",
   "metadata": {},
   "outputs": [],
   "source": [
    "test_real = os.path.join(test_directory, 'REAL')\n",
    "test_fake = os.path.join(test_directory, 'FAKE')"
   ]
  },
  {
   "cell_type": "code",
   "execution_count": 7,
   "id": "15d84dcb-d5a1-4220-9ad3-dd8727c6536e",
   "metadata": {},
   "outputs": [],
   "source": [
    "filepaths = {\n",
    "    'training directory': train_directory,\n",
    "    'testing_directory': test_directory,\n",
    "    'training_real': train_real,\n",
    "    'training_fake': train_fake,\n",
    "    'testing_real': test_real,\n",
    "    'testing_fake': test_fake\n",
    "}"
   ]
  },
  {
   "cell_type": "code",
   "execution_count": 8,
   "id": "288c50d5-92f6-47c0-9d89-7d00d0cd23d4",
   "metadata": {},
   "outputs": [
    {
     "name": "stdout",
     "output_type": "stream",
     "text": [
      "The file path 'synthetic_images_dataset\\train' DOES exist.\n",
      "The file path 'synthetic_images_dataset\\test' DOES exist.\n",
      "The file path 'synthetic_images_dataset\\train\\REAL' DOES exist.\n",
      "The file path 'synthetic_images_dataset\\train\\FAKE' DOES exist.\n",
      "The file path 'synthetic_images_dataset\\test\\REAL' DOES exist.\n",
      "The file path 'synthetic_images_dataset\\test\\FAKE' DOES exist.\n"
     ]
    }
   ],
   "source": [
    "for label, filepath in filepaths.items():\n",
    "  if not os.path.exists(filepath):\n",
    "    print(f\"The file path '{filepath}' DOES NOT exist.\")\n",
    "  else:\n",
    "    print(f\"The file path '{filepath}' DOES exist.\")"
   ]
  },
  {
   "cell_type": "markdown",
   "id": "0eb795a8-f3b2-43c5-8451-a06ef52b9d5d",
   "metadata": {},
   "source": [
    "# Data Analysis"
   ]
  },
  {
   "cell_type": "code",
   "execution_count": 9,
   "id": "b11fc1b8-a9df-4761-90f3-0b3b4adfaf8f",
   "metadata": {},
   "outputs": [],
   "source": [
    "def display_random_image(directory: str):\n",
    "  image = random.choice(os.listdir(directory))\n",
    "  jpg_image_path = os.path.join(directory, image)\n",
    "  jpg_image = Image.open(jpg_image_path)\n",
    "\n",
    "  print(f\"Path: {jpg_image_path}\")\n",
    "  print(f\"Size: {jpg_image.size}\")\n",
    "  print(f\"Number of Channels: {jpg_image.mode}\")\n",
    "  print('')\n",
    "\n",
    "  fig, ax = plt.subplots(1, 1, figsize=(1, 1))\n",
    "  ax.imshow(jpg_image, interpolation='nearest')\n",
    "  ax.axis(\"off\")\n",
    "  plt.show()"
   ]
  },
  {
   "cell_type": "markdown",
   "id": "21e3f140-7410-48cf-bd12-f412e40b9deb",
   "metadata": {},
   "source": [
    "Training"
   ]
  },
  {
   "cell_type": "code",
   "execution_count": 10,
   "id": "f0b340a8-621b-4e24-a2b3-a71a0dc62246",
   "metadata": {},
   "outputs": [
    {
     "name": "stdout",
     "output_type": "stream",
     "text": [
      "Size of Training Dataset (REAL): 50000\n",
      "Size of Training Dataset (FAKE): 50000\n"
     ]
    }
   ],
   "source": [
    "print(f\"Size of Training Dataset (REAL): {len(os.listdir(train_real))}\")\n",
    "print(f\"Size of Training Dataset (FAKE): {len(os.listdir(train_fake))}\")"
   ]
  },
  {
   "cell_type": "code",
   "execution_count": 11,
   "id": "b33039cd-849b-46c9-9f36-dd4684803434",
   "metadata": {},
   "outputs": [
    {
     "name": "stdout",
     "output_type": "stream",
     "text": [
      "Path: synthetic_images_dataset\\train\\REAL\\0991 (4).jpg\n",
      "Size: (32, 32)\n",
      "Number of Channels: RGB\n",
      "\n"
     ]
    },
    {
     "data": {
      "image/png": "[encoded data removed]",
      "text/plain": [
       "<Figure size 100x100 with 1 Axes>"
      ]
     },
     "metadata": {},
     "output_type": "display_data"
    }
   ],
   "source": [
    "display_random_image(train_real)"
   ]
  },
  {
   "cell_type": "code",
   "execution_count": 12,
   "id": "135e28ec-3587-4147-beba-a45479625344",
   "metadata": {},
   "outputs": [
    {
     "name": "stdout",
     "output_type": "stream",
     "text": [
      "Path: synthetic_images_dataset\\train\\FAKE\\3159 (10).jpg\n",
      "Size: (32, 32)\n",
      "Number of Channels: RGB\n",
      "\n"
     ]
    },
    {
     "data": {
      "image/png": "[encoded data removed]",
      "text/plain": [
       "<Figure size 100x100 with 1 Axes>"
      ]
     },
     "metadata": {},
     "output_type": "display_data"
    }
   ],
   "source": [
    "display_random_image(train_fake)"
   ]
  },
  {
   "cell_type": "markdown",
   "id": "ce7946a8-3a93-4efb-b200-0716cf0b6d98",
   "metadata": {},
   "source": [
    "Testing"
   ]
  },
  {
   "cell_type": "code",
   "execution_count": 13,
   "id": "55231568-4ea2-4d52-a694-9cc084cdeb4d",
   "metadata": {},
   "outputs": [
    {
     "name": "stdout",
     "output_type": "stream",
     "text": [
      "Size of Testing Dataset (REAL): 10000\n",
      "Size of Testing Dataset (FAKE): 10000\n"
     ]
    }
   ],
   "source": [
    "print(f\"Size of Testing Dataset (REAL): {len(os.listdir(test_real))}\")\n",
    "print(f\"Size of Testing Dataset (FAKE): {len(os.listdir(test_fake))}\")"
   ]
  },
  {
   "cell_type": "code",
   "execution_count": 14,
   "id": "bb69d846-2484-4286-9418-21d6bc381e6c",
   "metadata": {},
   "outputs": [
    {
     "name": "stdout",
     "output_type": "stream",
     "text": [
      "Path: synthetic_images_dataset\\test\\REAL\\0693 (7).jpg\n",
      "Size: (32, 32)\n",
      "Number of Channels: RGB\n",
      "\n"
     ]
    },
    {
     "data": {
      "image/png": "[encoded data removed]",
      "text/plain": [
       "<Figure size 100x100 with 1 Axes>"
      ]
     },
     "metadata": {},
     "output_type": "display_data"
    }
   ],
   "source": [
    "display_random_image(test_real)"
   ]
  },
  {
   "cell_type": "code",
   "execution_count": 15,
   "id": "c323c1f7-28e9-4a27-a2e1-c4544319a9d5",
   "metadata": {},
   "outputs": [
    {
     "name": "stdout",
     "output_type": "stream",
     "text": [
      "Path: synthetic_images_dataset\\test\\FAKE\\486 (9).jpg\n",
      "Size: (32, 32)\n",
      "Number of Channels: RGB\n",
      "\n"
     ]
    },
    {
     "data": {
      "image/png": "[encoded data removed]",
      "text/plain": [
       "<Figure size 100x100 with 1 Axes>"
      ]
     },
     "metadata": {},
     "output_type": "display_data"
    }
   ],
   "source": [
    "display_random_image(test_fake)"
   ]
  },
  {
   "cell_type": "markdown",
   "id": "36af417c-7d1d-4284-9a0a-46f0e263014e",
   "metadata": {},
   "source": [
    "# Loading Dataset"
   ]
  },
  {
   "cell_type": "code",
   "execution_count": 16,
   "id": "b9be8c91-fbe5-495c-b331-5be936a0a0d4",
   "metadata": {},
   "outputs": [
    {
     "name": "stdout",
     "output_type": "stream",
     "text": [
      "Found 100000 files belonging to 2 classes.\n",
      "Using 80000 files for training.\n"
     ]
    }
   ],
   "source": [
    "train_dataset = keras.utils.image_dataset_from_directory(\n",
    "    directory=train_directory,\n",
    "    labels='inferred',\n",
    "    label_mode='binary',\n",
    "    batch_size=32,\n",
    "    image_size=(32, 32),\n",
    "    validation_split=0.2,\n",
    "    subset='training',\n",
    "    seed=123)"
   ]
  },
  {
   "cell_type": "code",
   "execution_count": 17,
   "id": "f602aa9c-6a67-40b7-8ce1-4cd48654b592",
   "metadata": {},
   "outputs": [
    {
     "name": "stdout",
     "output_type": "stream",
     "text": [
      "Found 100000 files belonging to 2 classes.\n",
      "Using 20000 files for validation.\n"
     ]
    }
   ],
   "source": [
    "validation_dataset = keras.utils.image_dataset_from_directory(\n",
    "    directory=train_directory,\n",
    "    labels='inferred',\n",
    "    label_mode='binary',\n",
    "    batch_size=32,\n",
    "    image_size=(32, 32),\n",
    "    validation_split=0.2,\n",
    "    subset='validation',\n",
    "    seed=123)"
   ]
  },
  {
   "cell_type": "code",
   "execution_count": 18,
   "id": "caa22296-c64a-4904-8c7b-b907dac9b995",
   "metadata": {},
   "outputs": [
    {
     "name": "stdout",
     "output_type": "stream",
     "text": [
      "Found 20000 files belonging to 2 classes.\n"
     ]
    }
   ],
   "source": [
    "testing_dataset = keras.utils.image_dataset_from_directory(\n",
    "    directory=test_directory,\n",
    "    labels='inferred',\n",
    "    label_mode='binary',\n",
    "    batch_size=32,\n",
    "    image_size=(32, 32))"
   ]
  },
  {
   "cell_type": "markdown",
   "id": "00c7f46b-7af9-4cba-9fc7-9e38617e4f92",
   "metadata": {},
   "source": [
    "# Training"
   ]
  },
  {
   "cell_type": "code",
   "execution_count": 19,
   "id": "629680f3-6c59-4c49-a597-ef1503346ea4",
   "metadata": {},
   "outputs": [],
   "source": [
    "def check_gpu_availability():\n",
    "    if not tf.config.list_physical_devices('GPU'):\n",
    "        raise RuntimeError(\"No GPU devices detected. TensorFlow cannot use GPU acceleration.\")\n",
    "    else:\n",
    "        print(\"GPU is available and detected by TensorFlow.\")"
   ]
  },
  {
   "cell_type": "code",
   "execution_count": 20,
   "id": "2417dc7a-666d-4e32-92f4-16e608b164b6",
   "metadata": {},
   "outputs": [
    {
     "name": "stdout",
     "output_type": "stream",
     "text": [
      "GPU is available and detected by TensorFlow.\n"
     ]
    }
   ],
   "source": [
    "check_gpu_availability()"
   ]
  },
  {
   "cell_type": "code",
   "execution_count": 21,
   "id": "8e6f10d9-bada-4fe5-a34b-da49dbccc7aa",
   "metadata": {},
   "outputs": [],
   "source": [
    "def vgg16_model(input_shape=(32, 32, 3), num_classes=2):\n",
    "    inputs = keras.Input(shape=input_shape)\n",
    "\n",
    "    # Block 1\n",
    "    x = layers.Conv2D(64, (3, 3), activation='relu', padding='same')(inputs)\n",
    "    x = BatchNormalization()(x)\n",
    "    x = layers.Conv2D(64, (3, 3), activation='relu', padding='same')(x)\n",
    "    x = BatchNormalization()(x)\n",
    "    x = layers.MaxPooling2D((2, 2), strides=(2, 2))(x)\n",
    "\n",
    "    # Block 2\n",
    "    x = layers.Conv2D(128, (3, 3), activation='relu', padding='same')(x)\n",
    "    x = BatchNormalization()(x)\n",
    "    x = layers.Conv2D(128, (3, 3), activation='relu', padding='same')(x)\n",
    "    x = BatchNormalization()(x)\n",
    "    x = layers.MaxPooling2D((2, 2), strides=(2, 2))(x)\n",
    "\n",
    "    # Block 3\n",
    "    x = layers.Conv2D(256, (3, 3), activation='relu', padding='same')(x)\n",
    "    x = BatchNormalization()(x)\n",
    "    x = layers.Conv2D(256, (3, 3), activation='relu', padding='same')(x)\n",
    "    x = BatchNormalization()(x)\n",
    "    x = layers.Conv2D(256, (3, 3), activation='relu', padding='same')(x)\n",
    "    x = BatchNormalization()(x)\n",
    "    x = layers.MaxPooling2D((2, 2), strides=(2, 2))(x)\n",
    "\n",
    "    # Block 4\n",
    "    x = layers.Conv2D(512, (3, 3), activation='relu', padding='same')(x)\n",
    "    x = BatchNormalization()(x)\n",
    "    x = layers.Conv2D(512, (3, 3), activation='relu', padding='same')(x)\n",
    "    x = BatchNormalization()(x)\n",
    "    x = layers.Conv2D(512, (3, 3), activation='relu', padding='same')(x)\n",
    "    x = BatchNormalization()(x)\n",
    "    x = layers.MaxPooling2D((2, 2), strides=(2, 2))(x)\n",
    "\n",
    "    # Block 5\n",
    "    x = layers.Conv2D(512, (3, 3), activation='relu', padding='same')(x)\n",
    "    x = BatchNormalization()(x)\n",
    "    x = layers.Conv2D(512, (3, 3), activation='relu', padding='same')(x)\n",
    "    x = BatchNormalization()(x)\n",
    "    x = layers.Conv2D(512, (3, 3), activation='relu', padding='same')(x)\n",
    "    x = BatchNormalization()(x)\n",
    "    x = layers.MaxPooling2D((2, 2), strides=(2, 2))(x)\n",
    "\n",
    "    # Flatten the output\n",
    "    x = layers.Flatten()(x)\n",
    "\n",
    "    # Fully connected layers\n",
    "    x = layers.Dense(4096, activation='relu')(x)\n",
    "    x = layers.Dropout(0.5)(x)\n",
    "    x = layers.Dense(4096, activation='relu')(x)\n",
    "    x = layers.Dropout(0.5)(x)\n",
    "\n",
    "    # Output layer\n",
    "    outputs = layers.Dense(1, activation='sigmoid')(x)\n",
    "\n",
    "    # Create the model\n",
    "    model = keras.Model(inputs, outputs, name='vgg16')\n",
    "\n",
    "    model.summary()\n",
    "    return model"
   ]
  },
  {
   "cell_type": "code",
   "execution_count": 22,
   "id": "b36e016c-babd-4fdd-9f3f-979c83cfd2a4",
   "metadata": {},
   "outputs": [],
   "source": [
    "def train_model(model, train_dataset, validation_dataset, epochs=10):\n",
    "    # Compile the model\n",
    "    model.compile(optimizer='adam',\n",
    "                  loss='binary_crossentropy',\n",
    "                  metrics=['accuracy'])\n",
    "\n",
    "    # Train the model\n",
    "    history = model.fit(train_dataset, validation_data=validation_dataset, epochs=epochs, verbose=1)\n",
    "\n",
    "    # Evaluate the model\n",
    "    loss, accuracy = model.evaluate(validation_dataset, verbose=0)\n",
    "    print(\"Validation Accuracy:\", accuracy)\n",
    "\n",
    "    # Create dictionary for results\n",
    "    results = {\n",
    "        'accuracy': accuracy,\n",
    "        'loss': loss,\n",
    "        'history': history.history\n",
    "    }\n",
    "\n",
    "    return results"
   ]
  },
  {
   "cell_type": "code",
   "execution_count": 23,
   "id": "93d233b9-f763-46d6-ab93-50dd17fce646",
   "metadata": {},
   "outputs": [
    {
     "name": "stdout",
     "output_type": "stream",
     "text": [
      "Model: \"vgg16\"\n",
      "_________________________________________________________________\n",
      " Layer (type)                Output Shape              Param #   \n",
      "=================================================================\n",
      " input_1 (InputLayer)        [(None, 32, 32, 3)]       0         \n",
      "                                                                 \n",
      " conv2d (Conv2D)             (None, 32, 32, 64)        1792      \n",
      "                                                                 \n",
      " batch_normalization (BatchN  (None, 32, 32, 64)       256       \n",
      " ormalization)                                                   \n",
      "                                                                 \n",
      " conv2d_1 (Conv2D)           (None, 32, 32, 64)        36928     \n",
      "                                                                 \n",
      " batch_normalization_1 (Batc  (None, 32, 32, 64)       256       \n",
      " hNormalization)                                                 \n",
      "                                                                 \n",
      " max_pooling2d (MaxPooling2D  (None, 16, 16, 64)       0         \n",
      " )                                                               \n",
      "                                                                 \n",
      " conv2d_2 (Conv2D)           (None, 16, 16, 128)       73856     \n",
      "                                                                 \n",
      " batch_normalization_2 (Batc  (None, 16, 16, 128)      512       \n",
      " hNormalization)                                                 \n",
      "                                                                 \n",
      " conv2d_3 (Conv2D)           (None, 16, 16, 128)       147584    \n",
      "                                                                 \n",
      " batch_normalization_3 (Batc  (None, 16, 16, 128)      512       \n",
      " hNormalization)                                                 \n",
      "                                                                 \n",
      " max_pooling2d_1 (MaxPooling  (None, 8, 8, 128)        0         \n",
      " 2D)                                                             \n",
      "                                                                 \n",
      " conv2d_4 (Conv2D)           (None, 8, 8, 256)         295168    \n",
      "                                                                 \n",
      " batch_normalization_4 (Batc  (None, 8, 8, 256)        1024      \n",
      " hNormalization)                                                 \n",
      "                                                                 \n",
      " conv2d_5 (Conv2D)           (None, 8, 8, 256)         590080    \n",
      "                                                                 \n",
      " batch_normalization_5 (Batc  (None, 8, 8, 256)        1024      \n",
      " hNormalization)                                                 \n",
      "                                                                 \n",
      " conv2d_6 (Conv2D)           (None, 8, 8, 256)         590080    \n",
      "                                                                 \n",
      " batch_normalization_6 (Batc  (None, 8, 8, 256)        1024      \n",
      " hNormalization)                                                 \n",
      "                                                                 \n",
      " max_pooling2d_2 (MaxPooling  (None, 4, 4, 256)        0         \n",
      " 2D)                                                             \n",
      "                                                                 \n",
      " conv2d_7 (Conv2D)           (None, 4, 4, 512)         1180160   \n",
      "                                                                 \n",
      " batch_normalization_7 (Batc  (None, 4, 4, 512)        2048      \n",
      " hNormalization)                                                 \n",
      "                                                                 \n",
      " conv2d_8 (Conv2D)           (None, 4, 4, 512)         2359808   \n",
      "                                                                 \n",
      " batch_normalization_8 (Batc  (None, 4, 4, 512)        2048      \n",
      " hNormalization)                                                 \n",
      "                                                                 \n",
      " conv2d_9 (Conv2D)           (None, 4, 4, 512)         2359808   \n",
      "                                                                 \n",
      " batch_normalization_9 (Batc  (None, 4, 4, 512)        2048      \n",
      " hNormalization)                                                 \n",
      "                                                                 \n",
      " max_pooling2d_3 (MaxPooling  (None, 2, 2, 512)        0         \n",
      " 2D)                                                             \n",
      "                                                                 \n",
      " conv2d_10 (Conv2D)          (None, 2, 2, 512)         2359808   \n",
      "                                                                 \n",
      " batch_normalization_10 (Bat  (None, 2, 2, 512)        2048      \n",
      " chNormalization)                                                \n",
      "                                                                 \n",
      " conv2d_11 (Conv2D)          (None, 2, 2, 512)         2359808   \n",
      "                                                                 \n",
      " batch_normalization_11 (Bat  (None, 2, 2, 512)        2048      \n",
      " chNormalization)                                                \n",
      "                                                                 \n",
      " conv2d_12 (Conv2D)          (None, 2, 2, 512)         2359808   \n",
      "                                                                 \n",
      " batch_normalization_12 (Bat  (None, 2, 2, 512)        2048      \n",
      " chNormalization)                                                \n",
      "                                                                 \n",
      " max_pooling2d_4 (MaxPooling  (None, 1, 1, 512)        0         \n",
      " 2D)                                                             \n",
      "                                                                 \n",
      " flatten (Flatten)           (None, 512)               0         \n",
      "                                                                 \n",
      " dense (Dense)               (None, 4096)              2101248   \n",
      "                                                                 \n",
      " dropout (Dropout)           (None, 4096)              0         \n",
      "                                                                 \n",
      " dense_1 (Dense)             (None, 4096)              16781312  \n",
      "                                                                 \n",
      " dropout_1 (Dropout)         (None, 4096)              0         \n",
      "                                                                 \n",
      " dense_2 (Dense)             (None, 1)                 4097      \n",
      "                                                                 \n",
      "=================================================================\n",
      "Total params: 33,618,241\n",
      "Trainable params: 33,609,793\n",
      "Non-trainable params: 8,448\n",
      "_________________________________________________________________\n"
     ]
    }
   ],
   "source": [
    "vgg16_model = vgg16_model()"
   ]
  },
  {
   "cell_type": "code",
   "execution_count": 24,
   "id": "6f503a6d-1ecd-470f-8bfc-3a9840ba8537",
   "metadata": {},
   "outputs": [
    {
     "name": "stdout",
     "output_type": "stream",
     "text": [
      "Epoch 1/10\n",
      "2500/2500 [==============================] - 367s 141ms/step - loss: 0.4944 - accuracy: 0.8182 - val_loss: 0.5152 - val_accuracy: 0.8522\n",
      "Epoch 2/10\n",
      "2500/2500 [==============================] - 568s 227ms/step - loss: 0.3587 - accuracy: 0.8672 - val_loss: 0.2990 - val_accuracy: 0.8862\n",
      "Epoch 3/10\n",
      "2500/2500 [==============================] - 557s 223ms/step - loss: 0.2597 - accuracy: 0.9036 - val_loss: 0.2151 - val_accuracy: 0.9194\n",
      "Epoch 4/10\n",
      "2500/2500 [==============================] - 552s 220ms/step - loss: 0.2126 - accuracy: 0.9222 - val_loss: 0.4815 - val_accuracy: 0.8385\n",
      "Epoch 5/10\n",
      "2500/2500 [==============================] - 552s 221ms/step - loss: 0.1888 - accuracy: 0.9295 - val_loss: 0.1740 - val_accuracy: 0.9316\n",
      "Epoch 6/10\n",
      "2500/2500 [==============================] - 568s 227ms/step - loss: 0.1610 - accuracy: 0.9406 - val_loss: 0.1722 - val_accuracy: 0.9341\n",
      "Epoch 7/10\n",
      "2500/2500 [==============================] - 564s 226ms/step - loss: 0.1551 - accuracy: 0.9431 - val_loss: 0.2185 - val_accuracy: 0.9171\n",
      "Epoch 8/10\n",
      "2500/2500 [==============================] - 541s 217ms/step - loss: 0.1368 - accuracy: 0.9500 - val_loss: 0.1642 - val_accuracy: 0.9369\n",
      "Epoch 9/10\n",
      "2500/2500 [==============================] - 532s 213ms/step - loss: 0.1278 - accuracy: 0.9538 - val_loss: 0.1512 - val_accuracy: 0.9463\n",
      "Epoch 10/10\n",
      "2500/2500 [==============================] - 542s 217ms/step - loss: 0.1138 - accuracy: 0.9578 - val_loss: 0.2327 - val_accuracy: 0.9063\n",
      "Validation Accuracy: 0.9063000082969666\n"
     ]
    }
   ],
   "source": [
    "vgg16_results = train_model(vgg16_model, train_dataset, validation_dataset, epochs=10)"
   ]
  },
  {
   "cell_type": "code",
   "execution_count": 27,
   "id": "368536f1-3305-4ee4-af28-f1e1bffb2531",
   "metadata": {},
   "outputs": [
    {
     "name": "stdout",
     "output_type": "stream",
     "text": [
      "Training Results: {'accuracy': 0.9063000082969666, 'loss': 0.23270078003406525, 'history': {'loss': [0.4944099485874176, 0.35871049761772156, 0.25969457626342773, 0.21255119144916534, 0.1887897253036499, 0.16100752353668213, 0.15514253079891205, 0.13684198260307312, 0.1278468668460846, 0.11384689062833786], 'accuracy': [0.8181874752044678, 0.8671749830245972, 0.903612494468689, 0.9221875071525574, 0.9294624924659729, 0.9405999779701233, 0.9431124925613403, 0.9499750137329102, 0.9537875056266785, 0.9577875137329102], 'val_loss': [0.5151500105857849, 0.29900291562080383, 0.21510857343673706, 0.48148974776268005, 0.17397646605968475, 0.1722468137741089, 0.21845778822898865, 0.16422925889492035, 0.15123732388019562, 0.23270069062709808], 'val_accuracy': [0.852150022983551, 0.8861500024795532, 0.9194499850273132, 0.838450014591217, 0.9315999746322632, 0.9340500235557556, 0.9170500040054321, 0.9368500113487244, 0.9462500214576721, 0.9063000082969666]}}\n"
     ]
    }
   ],
   "source": [
    "print('Training Results:', vgg16_results)"
   ]
  },
  {
   "cell_type": "code",
   "execution_count": 28,
   "id": "3cf2671b-1b75-418f-b524-ba609623b078",
   "metadata": {},
   "outputs": [
    {
     "name": "stdout",
     "output_type": "stream",
     "text": [
      "625/625 [==============================] - 12s 19ms/step - loss: 0.2212 - accuracy: 0.9096\n",
      "Test Accuracy: 0.909600019454956\n"
     ]
    }
   ],
   "source": [
    "test_loss, test_accuracy = vgg16_model.evaluate(testing_dataset)\n",
    "print('Test Accuracy:', test_accuracy)"
   ]
  },
  {
   "cell_type": "code",
   "execution_count": 29,
   "id": "f13d20d4-dfb3-4583-8fc1-b2162a186de5",
   "metadata": {},
   "outputs": [],
   "source": [
    "def save_model(model, model_file):\n",
    "    with open(model_file, 'wb') as f:\n",
    "        pickle.dump(model, f)\n",
    "    print(f\"Model saved to {model_file}\")"
   ]
  },
  {
   "cell_type": "code",
   "execution_count": 30,
   "id": "435fcfbf-fe33-48cb-92a1-1f9770e18c41",
   "metadata": {},
   "outputs": [
    {
     "name": "stderr",
     "output_type": "stream",
     "text": [
      "WARNING:absl:Found untraced functions such as _jit_compiled_convolution_op, _jit_compiled_convolution_op, _jit_compiled_convolution_op, _jit_compiled_convolution_op, _jit_compiled_convolution_op while saving (showing 5 of 13). These functions will not be directly callable after loading.\n"
     ]
    },
    {
     "name": "stdout",
     "output_type": "stream",
     "text": [
      "INFO:tensorflow:Assets written to: ram://1427dfe2-3037-4989-a015-9e5321413bb9/assets\n"
     ]
    },
    {
     "name": "stderr",
     "output_type": "stream",
     "text": [
      "INFO:tensorflow:Assets written to: ram://1427dfe2-3037-4989-a015-9e5321413bb9/assets\n"
     ]
    },
    {
     "name": "stdout",
     "output_type": "stream",
     "text": [
      "Model saved to first_synth_vgg16_model.pkl\n"
     ]
    }
   ],
   "source": [
    "save_model(vgg16_model, \"first_synth_vgg16_model.pkl\")"
   ]
  },
  {
   "cell_type": "code",
   "execution_count": null,
   "id": "1b9ceead-1bed-4f8f-ab0a-96f81eec715f",
   "metadata": {},
   "outputs": [],
   "source": []
  }
 ],
 "metadata": {
  "kernelspec": {
   "display_name": "tf",
   "language": "python",
   "name": "tf"
  },
  "language_info": {
   "codemirror_mode": {
    "name": "ipython",
    "version": 3
   },
   "file_extension": ".py",
   "mimetype": "text/x-python",
   "name": "python",
   "nbconvert_exporter": "python",
   "pygments_lexer": "ipython3",
   "version": "3.9.18"
  }
 },
 "nbformat": 4,
 "nbformat_minor": 5
}
